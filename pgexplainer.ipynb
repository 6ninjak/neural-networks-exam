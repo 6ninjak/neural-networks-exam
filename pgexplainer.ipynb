{
 "cells": [
  {
   "cell_type": "code",
   "execution_count": 152,
   "metadata": {},
   "outputs": [],
   "source": [
    "import torch\n",
    "import torch.nn as nn\n",
    "import torch.nn.functional as F\n",
    "from torchmetrics.functional import accuracy\n",
    "\n",
    "import torch_geometric as pygeom\n",
    "import torch_geometric.transforms as T\n",
    "from torch_geometric.datasets import ExplainerDataset\n",
    "from torch_geometric.nn import global_max_pool\n",
    "from torch_geometric.loader import DataLoader\n",
    "\n",
    "import lightning.pytorch as pl\n",
    "\n",
    "from sklearn.model_selection import train_test_split\n",
    "\n",
    "import networkx as nx\n",
    "import matplotlib.colors as mcolors\n",
    "from typing import Optional, Union, Any"
   ]
  },
  {
   "attachments": {},
   "cell_type": "markdown",
   "metadata": {},
   "source": [
    "## Datasets"
   ]
  },
  {
   "attachments": {},
   "cell_type": "markdown",
   "metadata": {},
   "source": [
    "### Node classification: BA-Shapes"
   ]
  },
  {
   "cell_type": "code",
   "execution_count": 288,
   "metadata": {},
   "outputs": [],
   "source": [
    "trans = pygeom.transforms.Compose([T.Constant(), ])\n",
    "\n",
    "node_dataset = ExplainerDataset(\n",
    "    graph_generator=pygeom.datasets.graph_generator.BAGraph(num_nodes=300, num_edges=5),\n",
    "    motif_generator='house',\n",
    "    num_motifs=80,\n",
    "    transform=trans,\n",
    ")"
   ]
  },
  {
   "cell_type": "code",
   "execution_count": 289,
   "metadata": {},
   "outputs": [
    {
     "data": {
      "text/plain": [
       "ExplainerDataset(1, graph_generator=BAGraph(num_nodes=300, num_edges=5), motif_generator=HouseMotif(), num_motifs=80)"
      ]
     },
     "execution_count": 289,
     "metadata": {},
     "output_type": "execute_result"
    }
   ],
   "source": [
    "node_dataset"
   ]
  },
  {
   "cell_type": "code",
   "execution_count": 292,
   "metadata": {},
   "outputs": [],
   "source": [
    "g = node_dataset[0]"
   ]
  },
  {
   "cell_type": "code",
   "execution_count": 293,
   "metadata": {},
   "outputs": [],
   "source": [
    "train_idx, val_test_idx =  train_test_split(torch.arange(g.num_nodes), stratify=g.y, train_size=0.8)\n",
    "val_idx, test_idx = train_test_split(val_test_idx, stratify=g.y[val_test_idx], train_size=0.5)"
   ]
  },
  {
   "attachments": {},
   "cell_type": "markdown",
   "metadata": {},
   "source": [
    "### Graph classification: MUTAG"
   ]
  },
  {
   "attachments": {},
   "cell_type": "markdown",
   "metadata": {},
   "source": [
    "## GNN models"
   ]
  },
  {
   "attachments": {},
   "cell_type": "markdown",
   "metadata": {},
   "source": [
    "### Models Definition"
   ]
  },
  {
   "cell_type": "code",
   "execution_count": 303,
   "metadata": {},
   "outputs": [],
   "source": [
    "class NodeGNN(pl.LightningModule):\n",
    "    \"\"\"\n",
    "        A simple 3-layered GNN for node classification.\n",
    "    \"\"\"\n",
    "    def __init__(self, idcs):\n",
    "        super().__init__()\n",
    "        self.gc1 = pygeom.nn.GCNConv(1, 20)\n",
    "        self.gc2 = pygeom.nn.GCNConv(20, 20)\n",
    "        self.gc3 = pygeom.nn.GCNConv(20, 20)\n",
    "        self.dense = torch.nn.Linear(20, 4)\n",
    "        self.train_idx, self.val_idx, _ = idcs\n",
    "\n",
    "    def forward(self, data):\n",
    "        out = F.relu(self.gc1(data.x, data.edge_index))\n",
    "        out = F.relu(self.gc2(out, data.edge_index))\n",
    "        out = F.relu(self.gc3(out, data.edge_index))\n",
    "        return F.softmax(self.dense(out), dim=1)\n",
    "\n",
    "\n",
    "    def configure_optimizers(self):\n",
    "        return torch.optim.Adam(self.parameters(), lr=1e-3)\n",
    "\n",
    "    def training_step(self, data, _):\n",
    "        y_pred = self(data)\n",
    "        loss = F.cross_entropy(y_pred[self.train_idx], data.y[self.train_idx])\n",
    "        self.log('train_loss', loss, prog_bar=True, batch_size=1)\n",
    "        return loss\n",
    "\n",
    "    def validation_step(self, data, _):\n",
    "        y_hat = self(data)\n",
    "        self.log('val_accuracy', accuracy(y_hat[self.val_idx].argmax(dim=1), data.y[self.val_idx], task='multiclass', num_classes=4),\n",
    "            prog_bar=True, batch_size=1)\n",
    "        self.log('val_loss', F.cross_entropy(y_hat[self.val_idx], data.y[self.val_idx]),\n",
    "            prog_bar=True, batch_size=1)"
   ]
  },
  {
   "cell_type": "code",
   "execution_count": 304,
   "metadata": {},
   "outputs": [],
   "source": [
    "class GraphGNN(pl.LightningModule):\n",
    "    \"\"\"\n",
    "        A simple 3-layered GNN for graph classification.\n",
    "    \"\"\"\n",
    "    def __init__(self, batch_size=8):\n",
    "        super().__init__()\n",
    "        self.gc1 = pygeom.nn.GCNConv(10, 20)\n",
    "        self.gc2 = pygeom.nn.GCNConv(20, 20)\n",
    "        self.gc3 = pygeom.nn.GCNConv(20, 20)\n",
    "        self.dense = torch.nn.Linear(20, 1)\n",
    "        self.batch_size = batch_size\n",
    "\n",
    "    def forward(self, batch):\n",
    "        out = F.relu(self.gc1(batch.x, batch.edge_index))\n",
    "        out = F.relu(self.gc2(out, batch.edge_index))\n",
    "        out = F.relu(self.gc3(out, batch.edge_index))\n",
    "        out = global_max_pool(out, batch.batch)\n",
    "        return F.softmax(self.dense(out), dim=1)\n",
    "\n",
    "\n",
    "    def configure_optimizers(self):\n",
    "        return torch.optim.Adam(self.parameters(), lr=1e-3)\n",
    "\n",
    "    def training_step(self, batch, _):\n",
    "        y_pred = self(batch)\n",
    "        loss = F.binary_cross_entropy_with_logits(y_pred, batch.y.unsqueeze(1).float())\n",
    "        self.log('train_loss', loss, prog_bar=True, batch_size=self.batch_size)\n",
    "        return loss\n",
    "\n",
    "    def validation_step(self, batch, _):\n",
    "        y_hat = self.forward(batch)\n",
    "        self.log('val_accuracy', pl.metrics.functional.accuracy(y_hat, batch.y.unsqueeze(1).float()),\n",
    "                 prog_bar=True, batch_size=self.batch_size, on_step=False, on_epoch=True)\n",
    "        self.log('val_loss', F.binary_cross_entropy_with_logits(y_hat, batch.y.unsqueeze(1).float()),\n",
    "                 prog_bar=True, batch_size=self.batch_size, on_step=False, on_epoch=True)"
   ]
  },
  {
   "attachments": {},
   "cell_type": "markdown",
   "metadata": {},
   "source": [
    "### Models Training"
   ]
  },
  {
   "cell_type": "code",
   "execution_count": 305,
   "metadata": {},
   "outputs": [],
   "source": [
    "gnn = NodeGNN((train_idx, val_idx, test_idx))"
   ]
  },
  {
   "cell_type": "code",
   "execution_count": 311,
   "metadata": {},
   "outputs": [
    {
     "data": {
      "text/plain": [
       "tensor([[9.0193e-01, 6.1557e-02, 3.6493e-02, 2.1349e-05],\n",
       "        [7.7703e-01, 2.1953e-01, 3.4356e-03, 1.2000e-08],\n",
       "        [9.9933e-01, 9.0475e-05, 5.7464e-04, 4.8210e-06],\n",
       "        ...,\n",
       "        [1.1077e-01, 5.0045e-01, 3.8830e-01, 4.6687e-04],\n",
       "        [2.4524e-01, 3.4546e-01, 4.0852e-01, 7.8689e-04],\n",
       "        [2.1120e-01, 3.9240e-01, 3.9577e-01, 6.3567e-04]],\n",
       "       grad_fn=<SoftmaxBackward0>)"
      ]
     },
     "execution_count": 311,
     "metadata": {},
     "output_type": "execute_result"
    }
   ],
   "source": [
    "gnn(g)"
   ]
  },
  {
   "cell_type": "code",
   "execution_count": 307,
   "metadata": {},
   "outputs": [],
   "source": [
    "es_callback = pl.callbacks.EarlyStopping('val_loss', patience=5, mode='min')"
   ]
  },
  {
   "cell_type": "code",
   "execution_count": 308,
   "metadata": {},
   "outputs": [
    {
     "name": "stderr",
     "output_type": "stream",
     "text": [
      "GPU available: True (cuda), used: True\n",
      "TPU available: False, using: 0 TPU cores\n",
      "IPU available: False, using: 0 IPUs\n",
      "HPU available: False, using: 0 HPUs\n"
     ]
    }
   ],
   "source": [
    "trainer = pl.Trainer(max_epochs=1000, callbacks=[es_callback])"
   ]
  },
  {
   "cell_type": "code",
   "execution_count": 309,
   "metadata": {},
   "outputs": [],
   "source": [
    "node_loader = pygeom.loader.DataLoader(node_dataset, batch_size=1, shuffle=True)"
   ]
  },
  {
   "cell_type": "code",
   "execution_count": 310,
   "metadata": {},
   "outputs": [
    {
     "name": "stderr",
     "output_type": "stream",
     "text": [
      "LOCAL_RANK: 0 - CUDA_VISIBLE_DEVICES: [0]\n",
      "\n",
      "  | Name  | Type    | Params\n",
      "----------------------------------\n",
      "0 | gc1   | GCNConv | 40    \n",
      "1 | gc2   | GCNConv | 420   \n",
      "2 | gc3   | GCNConv | 420   \n",
      "3 | dense | Linear  | 84    \n",
      "----------------------------------\n",
      "964       Trainable params\n",
      "0         Non-trainable params\n",
      "964       Total params\n",
      "0.004     Total estimated model params size (MB)\n"
     ]
    },
    {
     "name": "stdout",
     "output_type": "stream",
     "text": [
      "Epoch 999: 100%|██████████| 1/1 [00:00<00:00, 15.65it/s, v_num=22, train_loss=1.070, val_accuracy=0.743, val_loss=1.060] "
     ]
    },
    {
     "name": "stderr",
     "output_type": "stream",
     "text": [
      "`Trainer.fit` stopped: `max_epochs=1000` reached.\n"
     ]
    },
    {
     "name": "stdout",
     "output_type": "stream",
     "text": [
      "Epoch 999: 100%|██████████| 1/1 [00:00<00:00, 14.24it/s, v_num=22, train_loss=1.070, val_accuracy=0.743, val_loss=1.060]\n"
     ]
    }
   ],
   "source": [
    "trainer.fit(gnn, node_loader, node_loader)"
   ]
  },
  {
   "attachments": {},
   "cell_type": "markdown",
   "metadata": {},
   "source": [
    "## PGExplainer"
   ]
  },
  {
   "cell_type": "code",
   "execution_count": null,
   "metadata": {},
   "outputs": [],
   "source": [
    "class PGExplainer(pl.LightningModule):\n",
    "    \n",
    "    def __init__(self, model, size_r=0.05, ent_r=1.0, max_epoch=30, temp=(5.0, 2.0), mode='node', *args: Any, **kwargs: Any) -> None:\n",
    "        super().__init__(*args, **kwargs)\n",
    "        if mode == 'node':\n",
    "            self.mlp = nn.Sequential(\n",
    "                nn.Linear(60, 64),\n",
    "                nn.ReLU(),\n",
    "                nn.Linear(64, 1),\n",
    "            )\n",
    "        elif mode == 'graph':\n",
    "            self.mlp = nn.Sequential(\n",
    "                nn.Linear(40, 64),\n",
    "                nn.ReLU(),\n",
    "                nn.Linear(64, 1),\n",
    "            )\n",
    "        else:\n",
    "            raise ValueError(\"mode must be either 'node' or 'graph'\")\n",
    "                \n",
    "        \n",
    "    def forward(self, *args: Any, **kwargs: Any) -> Any:\n",
    "        pass\n",
    "    \n",
    "    def configure_optimizers(self) -> Any:\n",
    "        pass\n",
    "    \n",
    "    def training_step(self, *args: Any, **kwargs: Any) -> Any:\n",
    "        pass\n",
    "    \n",
    "    def validation_step(self, *args: Any, **kwargs: Any) -> Any:\n",
    "        pass"
   ]
  },
  {
   "cell_type": "code",
   "execution_count": 108,
   "metadata": {},
   "outputs": [
    {
     "ename": "NameError",
     "evalue": "name 'Tensor' is not defined",
     "output_type": "error",
     "traceback": [
      "\u001b[0;31m---------------------------------------------------------------------------\u001b[0m",
      "\u001b[0;31mNameError\u001b[0m                                 Traceback (most recent call last)",
      "Cell \u001b[0;32mIn[108], line 1\u001b[0m\n\u001b[0;32m----> 1\u001b[0m \u001b[39mclass\u001b[39;00m \u001b[39mPGExplainer\u001b[39;00m(ExplainerAlgorithm):\n\u001b[1;32m      4\u001b[0m     coeffs \u001b[39m=\u001b[39m {\n\u001b[1;32m      5\u001b[0m         \u001b[39m'\u001b[39m\u001b[39medge_size\u001b[39m\u001b[39m'\u001b[39m: \u001b[39m0.05\u001b[39m,\n\u001b[1;32m      6\u001b[0m         \u001b[39m'\u001b[39m\u001b[39medge_ent\u001b[39m\u001b[39m'\u001b[39m: \u001b[39m1.0\u001b[39m,\n\u001b[1;32m      7\u001b[0m         \u001b[39m'\u001b[39m\u001b[39mtemp\u001b[39m\u001b[39m'\u001b[39m: [\u001b[39m5.0\u001b[39m, \u001b[39m2.0\u001b[39m],\n\u001b[1;32m      8\u001b[0m         \u001b[39m'\u001b[39m\u001b[39mbias\u001b[39m\u001b[39m'\u001b[39m: \u001b[39m0.0\u001b[39m,\n\u001b[1;32m      9\u001b[0m     }\n\u001b[1;32m     11\u001b[0m     \u001b[39mdef\u001b[39;00m \u001b[39m__init__\u001b[39m(\u001b[39mself\u001b[39m, epochs: \u001b[39mint\u001b[39m, lr: \u001b[39mfloat\u001b[39m \u001b[39m=\u001b[39m \u001b[39m3e-3\u001b[39m, \u001b[39m*\u001b[39m\u001b[39m*\u001b[39mkwargs):\n",
      "Cell \u001b[0;32mIn[108], line 87\u001b[0m, in \u001b[0;36mPGExplainer\u001b[0;34m()\u001b[0m\n\u001b[1;32m     80\u001b[0m     \u001b[39mself\u001b[39m\u001b[39m.\u001b[39m_curr_epoch \u001b[39m=\u001b[39m epoch\n\u001b[1;32m     82\u001b[0m     \u001b[39mreturn\u001b[39;00m \u001b[39mfloat\u001b[39m(loss)\n\u001b[1;32m     84\u001b[0m \u001b[39mdef\u001b[39;00m \u001b[39mforward\u001b[39m(\n\u001b[1;32m     85\u001b[0m     \u001b[39mself\u001b[39m,\n\u001b[1;32m     86\u001b[0m     model: torch\u001b[39m.\u001b[39mnn\u001b[39m.\u001b[39mModule,\n\u001b[0;32m---> 87\u001b[0m     x: Tensor,\n\u001b[1;32m     88\u001b[0m     edge_index: Tensor,\n\u001b[1;32m     89\u001b[0m     \u001b[39m*\u001b[39m,\n\u001b[1;32m     90\u001b[0m     target: Tensor,\n\u001b[1;32m     91\u001b[0m     index: Optional[Union[\u001b[39mint\u001b[39m, Tensor]] \u001b[39m=\u001b[39m \u001b[39mNone\u001b[39;00m,\n\u001b[1;32m     92\u001b[0m     \u001b[39m*\u001b[39m\u001b[39m*\u001b[39mkwargs,\n\u001b[1;32m     93\u001b[0m ) \u001b[39m-\u001b[39m\u001b[39m>\u001b[39m Explanation:\n\u001b[1;32m     94\u001b[0m     \u001b[39mif\u001b[39;00m \u001b[39misinstance\u001b[39m(x, \u001b[39mdict\u001b[39m) \u001b[39mor\u001b[39;00m \u001b[39misinstance\u001b[39m(edge_index, \u001b[39mdict\u001b[39m):\n\u001b[1;32m     95\u001b[0m         \u001b[39mraise\u001b[39;00m \u001b[39mValueError\u001b[39;00m(\u001b[39mf\u001b[39m\u001b[39m\"\u001b[39m\u001b[39mHeterogeneous graphs not yet supported in \u001b[39m\u001b[39m\"\u001b[39m\n\u001b[1;32m     96\u001b[0m                          \u001b[39mf\u001b[39m\u001b[39m\"\u001b[39m\u001b[39m'\u001b[39m\u001b[39m{\u001b[39;00m\u001b[39mself\u001b[39m\u001b[39m.\u001b[39m\u001b[39m__class__\u001b[39m\u001b[39m.\u001b[39m\u001b[39m__name__\u001b[39m\u001b[39m}\u001b[39;00m\u001b[39m'\u001b[39m\u001b[39m\"\u001b[39m)\n",
      "\u001b[0;31mNameError\u001b[0m: name 'Tensor' is not defined"
     ]
    }
   ],
   "source": [
    "class PGExplainer(ExplainerAlgorithm):\n",
    "    \n",
    "    \n",
    "    coeffs = {\n",
    "        'edge_size': 0.05,\n",
    "        'edge_ent': 1.0,\n",
    "        'temp': [5.0, 2.0],\n",
    "        'bias': 0.0,\n",
    "    }\n",
    "\n",
    "    def __init__(self, epochs: int, lr: float = 3e-3, **kwargs):\n",
    "        super().__init__()\n",
    "        self.epochs = epochs\n",
    "        self.lr = lr\n",
    "        self.coeffs.update(kwargs)\n",
    "\n",
    "        self.mlp = nn.Sequential(\n",
    "            nn.Linear(-1, 64),\n",
    "            nn.ReLU(),\n",
    "            nn.Linear(64, 1),\n",
    "        )\n",
    "        self.optimizer = torch.optim.Adam(self.mlp.parameters(), lr=lr)\n",
    "        self._curr_epoch = -1\n",
    "\n",
    "\n",
    "    def train(\n",
    "        self,\n",
    "        epoch: int,\n",
    "        model: torch.nn.Module,\n",
    "        x: torch.Tensor,\n",
    "        edge_index: torch.Tensor,\n",
    "        *,\n",
    "        target: torch.Tensor,\n",
    "        index: Optional[Union[int, torch.Tensor]] = None,\n",
    "        **kwargs,\n",
    "    ):\n",
    "        r\"\"\"Trains the underlying explainer model.\n",
    "        Needs to be called before being able to make predictions.\n",
    "\n",
    "        Args:\n",
    "            epoch (int): The current epoch of the training phase.\n",
    "            model (torch.nn.Module): The model to explain.\n",
    "            x (torch.Tensor): The input node features of a\n",
    "                homogeneous graph.\n",
    "            edge_index (torch.Tensor): The input edge indices of a homogeneous\n",
    "                graph.\n",
    "            target (torch.Tensor): The target of the model.\n",
    "            index (int or torch.Tensor, optional): The index of the model\n",
    "                output to explain. Needs to be a single index.\n",
    "                (default: :obj:`None`)\n",
    "            **kwargs (optional): Additional keyword arguments passed to\n",
    "                :obj:`model`.\n",
    "        \"\"\"\n",
    "\n",
    "        z = pygeom.utils.get_embeddings(model, x, edge_index, **kwargs)[-1]\n",
    "\n",
    "        self.optimizer.zero_grad()\n",
    "        temperature = self._get_temperature(epoch)\n",
    "\n",
    "        inputs = self._get_inputs(z, edge_index, index)\n",
    "        logits = self.mlp(inputs).view(-1)\n",
    "        edge_mask = self._concrete_sample(logits, temperature)\n",
    "        set_masks(model, edge_mask, edge_index, apply_sigmoid=True)\n",
    "\n",
    "        if self.model_config.task_level == ModelTaskLevel.node:\n",
    "            _, hard_edge_mask = self._get_hard_masks(model, index, edge_index,\n",
    "                                                     num_nodes=x.size(0))\n",
    "            edge_mask = edge_mask[hard_edge_mask]\n",
    "\n",
    "        y_hat, y = model(x, edge_index, **kwargs), target\n",
    "\n",
    "        if index is not None:\n",
    "            y_hat, y = y_hat[index], y[index]\n",
    "\n",
    "        loss = self._loss(y_hat, y, edge_mask)\n",
    "        loss.backward()\n",
    "        self.optimizer.step()\n",
    "\n",
    "        clear_masks(model)\n",
    "        self._curr_epoch = epoch\n",
    "\n",
    "        return float(loss)\n",
    "\n",
    "    def forward(\n",
    "        self,\n",
    "        model: torch.nn.Module,\n",
    "        x: Tensor,\n",
    "        edge_index: Tensor,\n",
    "        *,\n",
    "        target: Tensor,\n",
    "        index: Optional[Union[int, Tensor]] = None,\n",
    "        **kwargs,\n",
    "    ) -> Explanation:\n",
    "        if isinstance(x, dict) or isinstance(edge_index, dict):\n",
    "            raise ValueError(f\"Heterogeneous graphs not yet supported in \"\n",
    "                             f\"'{self.__class__.__name__}'\")\n",
    "\n",
    "        if self._curr_epoch < self.epochs - 1:  # Safety check:\n",
    "            raise ValueError(f\"'{self.__class__.__name__}' is not yet fully \"\n",
    "                             f\"trained (got {self._curr_epoch + 1} epochs \"\n",
    "                             f\"from {self.epochs} epochs). Please first train \"\n",
    "                             f\"the underlying explainer model by running \"\n",
    "                             f\"`explainer.algorithm.train(...)`.\")\n",
    "\n",
    "        hard_edge_mask = None\n",
    "        if self.model_config.task_level == ModelTaskLevel.node:\n",
    "            if index is None:\n",
    "                raise ValueError(f\"The 'index' argument needs to be provided \"\n",
    "                                 f\"in '{self.__class__.__name__}' for \"\n",
    "                                 f\"node-level explanations\")\n",
    "            if isinstance(index, Tensor) and index.numel() > 1:\n",
    "                raise ValueError(f\"Only scalars are supported for the 'index' \"\n",
    "                                 f\"argument in '{self.__class__.__name__}'\")\n",
    "\n",
    "            # We need to compute hard masks to properly clean up edges and\n",
    "            # nodes attributions not involved during message passing:\n",
    "            _, hard_edge_mask = self._get_hard_masks(model, index, edge_index,\n",
    "                                                     num_nodes=x.size(0))\n",
    "\n",
    "        z = get_embeddings(model, x, edge_index, **kwargs)[-1]\n",
    "\n",
    "        inputs = self._get_inputs(z, edge_index, index)\n",
    "        logits = self.mlp(inputs).view(-1)\n",
    "\n",
    "        edge_mask = self._post_process_mask(logits, hard_edge_mask,\n",
    "                                            apply_sigmoid=True)\n",
    "\n",
    "        return Explanation(edge_mask=edge_mask)\n",
    "\n",
    "    def supports(self) -> bool:\n",
    "        explanation_type = self.explainer_config.explanation_type\n",
    "        if explanation_type != ExplanationType.phenomenon:\n",
    "            logging.error(f\"'{self.__class__.__name__}' only supports \"\n",
    "                          f\"phenomenon explanations \"\n",
    "                          f\"got (`explanation_type={explanation_type.value}`)\")\n",
    "            return False\n",
    "\n",
    "        task_level = self.model_config.task_level\n",
    "        if task_level not in {ModelTaskLevel.node, ModelTaskLevel.graph}:\n",
    "            logging.error(f\"'{self.__class__.__name__}' only supports \"\n",
    "                          f\"node-level or graph-level explanations \"\n",
    "                          f\"got (`task_level={task_level.value}`)\")\n",
    "            return False\n",
    "\n",
    "        node_mask_type = self.explainer_config.node_mask_type\n",
    "        if node_mask_type is not None:\n",
    "            logging.error(f\"'{self.__class__.__name__}' does not support \"\n",
    "                          f\"explaining input node features \"\n",
    "                          f\"got (`node_mask_type={node_mask_type.value}`)\")\n",
    "            return False\n",
    "\n",
    "        return True\n",
    "\n",
    "    ###########################################################################\n",
    "\n",
    "    def _get_inputs(self, embedding: Tensor, edge_index: Tensor,\n",
    "                    index: Optional[int] = None) -> Tensor:\n",
    "        zs = [embedding[edge_index[0]], embedding[edge_index[1]]]\n",
    "        if self.model_config.task_level == ModelTaskLevel.node:\n",
    "            assert index is not None\n",
    "            zs.append(embedding[index].view(1, -1).repeat(zs[0].size(0), 1))\n",
    "        return torch.cat(zs, dim=-1)\n",
    "\n",
    "    def _get_temperature(self, epoch: int) -> float:\n",
    "        temp = self.coeffs['temp']\n",
    "        return temp[0] * pow(temp[1] / temp[0], epoch / self.epochs)\n",
    "\n",
    "    def _concrete_sample(self, logits: Tensor,\n",
    "                         temperature: float = 1.0) -> Tensor:\n",
    "        bias = self.coeffs['bias']\n",
    "        eps = (1 - 2 * bias) * torch.rand_like(logits) + bias\n",
    "        return (eps.log() - (1 - eps).log() + logits) / temperature\n",
    "\n",
    "    def _loss(self, y_hat: Tensor, y: Tensor, edge_mask: Tensor) -> Tensor:\n",
    "        if self.model_config.mode == ModelMode.binary_classification:\n",
    "            loss = self._loss_binary_classification(y_hat, y)\n",
    "        elif self.model_config.mode == ModelMode.multiclass_classification:\n",
    "            loss = self._loss_multiclass_classification(y_hat, y)\n",
    "        elif self.model_config.mode == ModelMode.regression:\n",
    "            loss = self._loss_regression(y_hat, y)\n",
    "\n",
    "        # Regularization loss:\n",
    "        mask = edge_mask.sigmoid()\n",
    "        size_loss = mask.sum() * self.coeffs['edge_size']\n",
    "        mask = 0.99 * mask + 0.005\n",
    "        mask_ent = -mask * mask.log() - (1 - mask) * (1 - mask).log()\n",
    "        mask_ent_loss = mask_ent.mean() * self.coeffs['edge_ent']\n",
    "\n",
    "        return loss + size_loss + mask_ent_loss\n",
    "        \n",
    "        \n",
    "    \n",
    "            "
   ]
  },
  {
   "attachments": {},
   "cell_type": "markdown",
   "metadata": {},
   "source": [
    "## Collect dataset"
   ]
  },
  {
   "cell_type": "code",
   "execution_count": 35,
   "metadata": {},
   "outputs": [],
   "source": [
    "dataset = pygeom.datasets.TUDataset('./mutag', 'MUTAG', cleaned=True)"
   ]
  },
  {
   "cell_type": "code",
   "execution_count": 36,
   "metadata": {},
   "outputs": [
    {
     "name": "stdout",
     "output_type": "stream",
     "text": [
      "graph shape: torch.Size([17, 7])\n",
      "node features: tensor([1., 0., 0., 0., 0., 0., 0.])\n",
      "graph classification: tensor([1])\n",
      "edge index: tensor([[ 0,  0,  1,  1,  2,  2,  3,  3,  3,  4,  4,  4,  5,  5,  6,  6,  7,  7,\n",
      "          8,  8,  8,  9,  9,  9, 10, 10, 11, 11, 12, 12, 12, 13, 13, 14, 14, 14,\n",
      "         15, 16],\n",
      "        [ 1,  5,  0,  2,  1,  3,  2,  4,  9,  3,  5,  6,  0,  4,  4,  7,  6,  8,\n",
      "          7,  9, 13,  3,  8, 10,  9, 11, 10, 12, 11, 13, 14,  8, 12, 12, 15, 16,\n",
      "         14, 14]])\n"
     ]
    }
   ],
   "source": [
    "g = dataset[0]\n",
    "print(\"graph shape:\", g.x.shape)\n",
    "print(\"node features:\", g.x[0])\n",
    "print(\"graph classification:\", g.y)\n",
    "print(\"edge index:\", g.edge_index)"
   ]
  },
  {
   "cell_type": "code",
   "execution_count": 83,
   "metadata": {},
   "outputs": [
    {
     "name": "stdout",
     "output_type": "stream",
     "text": [
      "Data(edge_index=[2, 38], x=[17, 7], edge_attr=[38, 4], y=[1])\n"
     ]
    }
   ],
   "source": [
    "print(g)"
   ]
  },
  {
   "cell_type": "code",
   "execution_count": 60,
   "metadata": {},
   "outputs": [
    {
     "data": {
      "image/png": "[encoded data removed]",
      "text/plain": [
       "<Figure size 640x480 with 1 Axes>"
      ]
     },
     "metadata": {},
     "output_type": "display_data"
    }
   ],
   "source": [
    "colors = list(mcolors.TABLEAU_COLORS)\n",
    "nx.draw(pygeom.utils.to_networkx(g, to_undirected=True),\n",
    "            node_color=[colors[i.item()] for i in g.x.argmax(dim=1)])"
   ]
  },
  {
   "cell_type": "code",
   "execution_count": 88,
   "metadata": {},
   "outputs": [],
   "source": [
    "sub_gs = []\n",
    "for n in range(g.x.shape[0]):\n",
    "    idcs, _, _, edges_mask = pygeom.utils.k_hop_subgraph(n, 3, g.edge_index)\n",
    "    subg = g.clone()\n",
    "    subg.edge_index = subg.edge_index[:, edges_mask]\n",
    "    subg.edge_attr = subg.edge_attr[edges_mask]\n",
    "    sub_gs.append(subg)"
   ]
  },
  {
   "cell_type": "code",
   "execution_count": 106,
   "metadata": {},
   "outputs": [
    {
     "data": {
      "image/png": "[encoded data removed]",
      "text/plain": [
       "<Figure size 640x480 with 1 Axes>"
      ]
     },
     "metadata": {},
     "output_type": "display_data"
    }
   ],
   "source": [
    "i = 16\n",
    "nx.draw(pygeom.utils.to_networkx(sub_gs[i], to_undirected=True),\n",
    "        node_color=[colors[i.item()] for i in sub_gs[i].x.argmax(dim=1)])"
   ]
  }
 ],
 "metadata": {
  "kernelspec": {
   "display_name": "neural-networks",
   "language": "python",
   "name": "python3"
  },
  "language_info": {
   "codemirror_mode": {
    "name": "ipython",
    "version": 3
   },
   "file_extension": ".py",
   "mimetype": "text/x-python",
   "name": "python",
   "nbconvert_exporter": "python",
   "pygments_lexer": "ipython3",
   "version": "3.8.16"
  },
  "orig_nbformat": 4
 },
 "nbformat": 4,
 "nbformat_minor": 2
}
